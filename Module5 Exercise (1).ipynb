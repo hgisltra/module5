{
 "cells": [
  {
   "cell_type": "markdown",
   "metadata": {},
   "source": [
    "1. Round 4.5667 to the nearest hundreth using a build-in function, round()."
   ]
  },
  {
   "cell_type": "code",
   "execution_count": 8,
   "metadata": {},
   "outputs": [
    {
     "data": {
      "text/plain": [
       "4.57"
      ]
     },
     "execution_count": 8,
     "metadata": {},
     "output_type": "execute_result"
    }
   ],
   "source": [
    "round(4.5667, 2)"
   ]
  },
  {
   "cell_type": "markdown",
   "metadata": {},
   "source": [
    "2. Convert \"657\" to an integer data type"
   ]
  },
  {
   "cell_type": "code",
   "execution_count": 9,
   "metadata": {},
   "outputs": [
    {
     "data": {
      "text/plain": [
       "657"
      ]
     },
     "execution_count": 9,
     "metadata": {},
     "output_type": "execute_result"
    }
   ],
   "source": [
    "int(\"657\")"
   ]
  },
  {
   "cell_type": "markdown",
   "metadata": {},
   "source": [
    "3.\n",
    "Write a program to get two numbers from a user. Then, create a secret code where a code consists of 6 numbers and each number is randomly generated number between two numbers from a user. "
   ]
  },
  {
   "cell_type": "code",
   "execution_count": 11,
   "metadata": {},
   "outputs": [
    {
     "name": "stdout",
     "output_type": "stream",
     "text": [
      "Enter a number: 10\n",
      "Enter another number: 25\n",
      "Six random number result is 25, 24, 13, 12, 22, 14\n"
     ]
    }
   ],
   "source": [
    "import random\n",
    "\n",
    "numb1 = int(input(\"Enter a number: \"))\n",
    "numb2 = int(input(\"Enter another number: \"))\n",
    "\n",
    "rnumb1 = (random.randint (numb1,numb2))\n",
    "rnumb2 = (random.randint (numb1,numb2))\n",
    "rnumb3 = (random.randint (numb1,numb2))\n",
    "rnumb4 = (random.randint (numb1,numb2))\n",
    "rnumb5 = (random.randint (numb1,numb2))\n",
    "rnumb6 = (random.randint (numb1,numb2))\n",
    "\n",
    "print(f\"Six random number result is {rnumb1}, {rnumb2}, {rnumb3}, {rnumb4}, {rnumb5}, {rnumb6}\")\n"
   ]
  },
  {
   "cell_type": "markdown",
   "metadata": {},
   "source": [
    "4.\n",
    "Write a program to center align below text where number of characters per line is 40:\n",
    "\n",
    "    Hickory, dickory, dock,\n",
    "    The mouse ran up the clock.\n",
    "    The clock struck one,\n",
    "    The mouse ran down,\n",
    "    Hickory, dickory, dock\n",
    "\n",
    "<b>Do not use string's center method! </b>"
   ]
  },
  {
   "cell_type": "code",
   "execution_count": 7,
   "metadata": {},
   "outputs": [
    {
     "name": "stdout",
     "output_type": "stream",
     "text": [
      "              Hickory, dickory, dock,\n",
      "             The mouse ran up the clock.\n",
      "              The clock struck one,\n",
      "               The mouse ran down,\n",
      "              Hickory, dickory, dock\n"
     ]
    }
   ],
   "source": [
    "line1 = \"Hickory, dickory, dock,\"\n",
    "line2 = \"The mouse ran up the clock.\"\n",
    "line3 = \"The clock struck one,\"\n",
    "line4 = \"The mouse ran down,\"\n",
    "line5 = \"Hickory, dickory, dock\"\n",
    "\n",
    "\n",
    "x = int(len( line1 ))\n",
    "y = int(40-(x/2))\n",
    "q = int(y/2)\n",
    "z = \" \"*q\n",
    "print(f\"{z}{line1}\")\n",
    "\n",
    "x1 = int(len(line2))\n",
    "y = int(40-(x1/2))\n",
    "q = int(y/2)\n",
    "z = \" \"*q\n",
    "print(f\"{z}{line2}\")\n",
    "\n",
    "x2 = int(len(line3))\n",
    "y = int(40-(x2/2))\n",
    "q = int(y/2)\n",
    "z = \" \"*q\n",
    "print(f\"{z}{line3}\")\n",
    "\n",
    "x3 = int(len(line4))\n",
    "y = int(40-(x3/2))\n",
    "q = int(y/2)\n",
    "z = \" \"*q\n",
    "print(f\"{z}{line4}\")\n",
    "\n",
    "x4 = int(len(line5))\n",
    "y = int(40-(x4/2))\n",
    "q = int(y/2)\n",
    "z = \" \"*q\n",
    "print(f\"{z}{line5}\")\n",
    "\n",
    "\n"
   ]
  },
  {
   "cell_type": "markdown",
   "metadata": {},
   "source": [
    "5. Write a function to calculate the miles per gallon.\n",
    "Get a miles driven and gallons used from a user and call your function to calculate the miles per gallon. "
   ]
  },
  {
   "cell_type": "code",
   "execution_count": 14,
   "metadata": {},
   "outputs": [
    {
     "name": "stdout",
     "output_type": "stream",
     "text": [
      "The Milers Per Gallon Program: \n",
      "Enter miles driven: 10\n",
      "Enter gallons of gas used: 5\n",
      "Miles per Gallon: 2.0\n"
     ]
    }
   ],
   "source": [
    "def milespg(miles, gallons) :\n",
    "    mpg = miles / gallons\n",
    "    return mpg\n",
    "\n",
    "print(\"The Milers Per Gallon Program: \")\n",
    "\n",
    "miles = float(input(\"Enter miles driven: \"))\n",
    "gallons = float(input(\"Enter gallons of gas used: \"))\n",
    "\n",
    "milespergallon = milespg(miles, gallons)\n",
    "\n",
    "print(f\"Miles per Gallon: {milespergallon}\")\n",
    "\n",
    "\n",
    "\n"
   ]
  },
  {
   "cell_type": "code",
   "execution_count": null,
   "metadata": {},
   "outputs": [],
   "source": []
  }
 ],
 "metadata": {
  "kernelspec": {
   "display_name": "Python 3",
   "language": "python",
   "name": "python3"
  },
  "language_info": {
   "codemirror_mode": {
    "name": "ipython",
    "version": 3
   },
   "file_extension": ".py",
   "mimetype": "text/x-python",
   "name": "python",
   "nbconvert_exporter": "python",
   "pygments_lexer": "ipython3",
   "version": "3.8.8"
  }
 },
 "nbformat": 4,
 "nbformat_minor": 4
}
